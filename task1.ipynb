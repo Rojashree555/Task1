{
  "nbformat": 4,
  "nbformat_minor": 0,
  "metadata": {
    "colab": {
      "name": "task1",
      "provenance": []
    },
    "kernelspec": {
      "name": "python3",
      "display_name": "Python 3"
    },
    "language_info": {
      "name": "python"
    }
  },
  "cells": [
    {
      "cell_type": "code",
      "execution_count": 38,
      "metadata": {
        "colab": {
          "base_uri": "https://localhost:8080/"
        },
        "id": "epHfwlNsmQtc",
        "outputId": "047211bb-8377-431e-de47-cce9319ef5f0"
      },
      "outputs": [
        {
          "output_type": "stream",
          "name": "stdout",
          "text": [
            "Login or registerLogin\n",
            "Enter the email_addresssrivignesh1502@gmail,com\n",
            "Enter the passwordShree@05\n",
            "password or username or incorrect\n"
          ]
        }
      ],
      "source": [
        "def register():\n",
        "    db=open(\"database.txt\",\"r\")\n",
        "    email_address = input(\"Enter your email address? \")\n",
        "    if \"@\" not in email_address:\n",
        "      email_address = input(\"@ has to be included\\n Enter the email : \")\n",
        "    if \".\" not in email_address:\n",
        "        email_address = input(\". has to be included\\n Enter the email : \")\n",
        "   \n",
        "    if len(email_address) <= 6 :\n",
        "        email_address = input(\"Your email address is too short\\nEnter the email: \")\n",
        "    \n",
        "    password=input(\"Enter the password: \")\n",
        "    password1=input(\"Enter the confirm password: \")\n",
        "    \n",
        "    Splchar =['$', '@', '#', '%']\n",
        "   \n",
        "      \n",
        "    if len(password) <= 5:\n",
        "        print('minimum password length is 5')\n",
        "        \n",
        "          \n",
        "    if len(password) > 16:\n",
        "        print('maximum password length 16')\n",
        "        \n",
        "          \n",
        "    if not any(char.isdigit() for char in password):\n",
        "        print('Atleast one numericdegit has to be included')\n",
        "       \n",
        "          \n",
        "    if not any(char.isupper() for char in password):\n",
        "        print('Atleast one Uppercase has to be included')\n",
        "        \n",
        "          \n",
        "    if not any(char.islower() for char in password):\n",
        "        print('Atleast one lowercase has to be included')\n",
        "     \n",
        "    if not any(char in  Splchar for char in password):\n",
        "          print('Password should contain any one of this special character $@#')     \n",
        "    \n",
        "  \n",
        "    else:\n",
        "        if password not in db:\n",
        "          print(\"register again\")\n",
        "          register()\n",
        "        elif email_address in db:\n",
        "          print(\"username exist\")\n",
        "          register()\n",
        "        else:\n",
        "          db=open(\"database.txt\",\"a\")\n",
        "          db.write(email_address+\",\"+password+\"\\n\")\n",
        "        print(\"sucess\")\n",
        "\n",
        "\n",
        "def access():\n",
        "  db=open(\"database.txt\",\"r\")\n",
        "  email_address=input(\"Enter the email_address\")\n",
        "  password=input(\"Enter the password\")\n",
        "\n",
        "  try:\n",
        "            if (email_address):\n",
        "              try:\n",
        "                    if password==email_address:\n",
        "                         print(\"Login success\")\n",
        "                    else:\n",
        "                         print(\"password or username or incorrect\")\n",
        "\n",
        "              except:\n",
        "                print(\"password doesnt match email_address\")\n",
        "\n",
        "            else:\n",
        "              print(\"Incorrect password\")\n",
        "      \n",
        "  except:\n",
        "            print(\"Login error\")\n",
        "def start(option=None):\n",
        "  option=input(\"Login or register\")\n",
        "  if option==\"Login\":\n",
        "          access()\n",
        "  else: \n",
        "         register()\n",
        "\n",
        "start()\n"
      ]
    },
    {
      "cell_type": "code",
      "source": [
        " db=open(\"database.txt\",\"r\")\n",
        " print(db.read())"
      ],
      "metadata": {
        "colab": {
          "base_uri": "https://localhost:8080/"
        },
        "id": "p6EkW0rnpcWo",
        "outputId": "4c86fe46-1670-4c9f-c45b-e3333e5df9af"
      },
      "execution_count": 25,
      "outputs": [
        {
          "output_type": "stream",
          "name": "stdout",
          "text": [
            "roja,vignesh\n",
            "roja,VIGNESHWARAN\n",
            "roja,shreeee\n",
            "roja,shreeee\n",
            "roja,shreeee\n",
            "prem,kumar05\n",
            "roja.anju555@gmail.com,rojashree\n",
            "\n"
          ]
        }
      ]
    }
  ]
}
